{
  "nbformat": 4,
  "nbformat_minor": 0,
  "metadata": {
    "colab": {
      "name": "Q3.ipynb",
      "provenance": [],
      "collapsed_sections": [],
      "include_colab_link": true
    },
    "kernelspec": {
      "name": "python3",
      "display_name": "Python 3"
    },
    "language_info": {
      "name": "python"
    }
  },
  "cells": [
    {
      "cell_type": "markdown",
      "metadata": {
        "id": "view-in-github",
        "colab_type": "text"
      },
      "source": [
        "<a href=\"https://colab.research.google.com/github/parvathy-nsarma/Data_Mining_Project/blob/main/Q3.ipynb\" target=\"_parent\"><img src=\"https://colab.research.google.com/assets/colab-badge.svg\" alt=\"Open In Colab\"/></a>"
      ]
    },
    {
      "cell_type": "code",
      "metadata": {
        "colab": {
          "base_uri": "https://localhost:8080/"
        },
        "id": "9qrk2qbQheGl",
        "outputId": "2ab579d0-b1bd-468c-b842-63934cb4f27e"
      },
      "source": [
        "from google.colab import drive\n",
        "drive.mount('/content/drive')"
      ],
      "execution_count": 1,
      "outputs": [
        {
          "output_type": "stream",
          "text": [
            "Mounted at /content/drive\n"
          ],
          "name": "stdout"
        }
      ]
    },
    {
      "cell_type": "code",
      "metadata": {
        "colab": {
          "base_uri": "https://localhost:8080/"
        },
        "id": "IoilhCHKhvGh",
        "outputId": "9c9bfa80-993a-40e2-fb81-7b666eb5928a"
      },
      "source": [
        "# Add the project directory to the path\n",
        "%cd /content/drive/Shared drives/CS634/CS634Project/Q3\n",
        "import os, sys\n",
        "sys.path.append(os.getcwd())"
      ],
      "execution_count": 2,
      "outputs": [
        {
          "output_type": "stream",
          "text": [
            "/content/drive/Shared drives/CS634/CS634Project/Q3\n"
          ],
          "name": "stdout"
        }
      ]
    },
    {
      "cell_type": "code",
      "metadata": {
        "id": "OBjyMu57hmg-"
      },
      "source": [
        "#Importing necessary library \n",
        "import sklearn\n",
        "import sklearn.ensemble\n",
        "import sklearn.metrics\n",
        "import pandas as pd\n",
        "import numpy as np"
      ],
      "execution_count": 3,
      "outputs": []
    },
    {
      "cell_type": "code",
      "metadata": {
        "colab": {
          "base_uri": "https://localhost:8080/",
          "height": 195
        },
        "id": "etEarFHFhw07",
        "outputId": "969ad19f-9408-40ce-cddf-3c4d45308196"
      },
      "source": [
        "data = pd.read_csv(\"Youtube02-KatyPerry.csv\")\n",
        "data.head()"
      ],
      "execution_count": 4,
      "outputs": [
        {
          "output_type": "execute_result",
          "data": {
            "text/html": [
              "<div>\n",
              "<style scoped>\n",
              "    .dataframe tbody tr th:only-of-type {\n",
              "        vertical-align: middle;\n",
              "    }\n",
              "\n",
              "    .dataframe tbody tr th {\n",
              "        vertical-align: top;\n",
              "    }\n",
              "\n",
              "    .dataframe thead th {\n",
              "        text-align: right;\n",
              "    }\n",
              "</style>\n",
              "<table border=\"1\" class=\"dataframe\">\n",
              "  <thead>\n",
              "    <tr style=\"text-align: right;\">\n",
              "      <th></th>\n",
              "      <th>COMMENT_ID</th>\n",
              "      <th>AUTHOR</th>\n",
              "      <th>DATE</th>\n",
              "      <th>CONTENT</th>\n",
              "      <th>CLASS</th>\n",
              "    </tr>\n",
              "  </thead>\n",
              "  <tbody>\n",
              "    <tr>\n",
              "      <th>0</th>\n",
              "      <td>z12pgdhovmrktzm3i23es5d5junftft3f</td>\n",
              "      <td>lekanaVEVO1</td>\n",
              "      <td>2014-07-22T15:27:50</td>\n",
              "      <td>i love this so much. AND also I Generate Free ...</td>\n",
              "      <td>1</td>\n",
              "    </tr>\n",
              "    <tr>\n",
              "      <th>1</th>\n",
              "      <td>z13yx345uxepetggz04ci5rjcxeohzlrtf4</td>\n",
              "      <td>Pyunghee</td>\n",
              "      <td>2014-07-27T01:57:16</td>\n",
              "      <td>http://www.billboard.com/articles/columns/pop-...</td>\n",
              "      <td>1</td>\n",
              "    </tr>\n",
              "    <tr>\n",
              "      <th>2</th>\n",
              "      <td>z12lsjvi3wa5x1vwh04cibeaqnzrevxajw00k</td>\n",
              "      <td>Erica Ross</td>\n",
              "      <td>2014-07-27T02:51:43</td>\n",
              "      <td>Hey guys! Please join me in my fight to help a...</td>\n",
              "      <td>1</td>\n",
              "    </tr>\n",
              "    <tr>\n",
              "      <th>3</th>\n",
              "      <td>z13jcjuovxbwfr0ge04cev2ipsjdfdurwck</td>\n",
              "      <td>Aviel Haimov</td>\n",
              "      <td>2014-08-01T12:27:48</td>\n",
              "      <td>http://psnboss.com/?ref=2tGgp3pV6L this is the...</td>\n",
              "      <td>1</td>\n",
              "    </tr>\n",
              "    <tr>\n",
              "      <th>4</th>\n",
              "      <td>z13qybua2yfydzxzj04cgfpqdt2syfx53ms0k</td>\n",
              "      <td>John Bello</td>\n",
              "      <td>2014-08-01T21:04:03</td>\n",
              "      <td>Hey everyone. Watch this trailer!!!!!!!!  http...</td>\n",
              "      <td>1</td>\n",
              "    </tr>\n",
              "  </tbody>\n",
              "</table>\n",
              "</div>"
            ],
            "text/plain": [
              "                              COMMENT_ID  ... CLASS\n",
              "0      z12pgdhovmrktzm3i23es5d5junftft3f  ...     1\n",
              "1    z13yx345uxepetggz04ci5rjcxeohzlrtf4  ...     1\n",
              "2  z12lsjvi3wa5x1vwh04cibeaqnzrevxajw00k  ...     1\n",
              "3    z13jcjuovxbwfr0ge04cev2ipsjdfdurwck  ...     1\n",
              "4  z13qybua2yfydzxzj04cgfpqdt2syfx53ms0k  ...     1\n",
              "\n",
              "[5 rows x 5 columns]"
            ]
          },
          "metadata": {
            "tags": []
          },
          "execution_count": 4
        }
      ]
    },
    {
      "cell_type": "code",
      "metadata": {
        "colab": {
          "base_uri": "https://localhost:8080/",
          "height": 195
        },
        "id": "buHngVs-p76Y",
        "outputId": "d3b14c36-2e6e-4751-b726-61e73a9b87fb"
      },
      "source": [
        "data.tail()"
      ],
      "execution_count": 5,
      "outputs": [
        {
          "output_type": "execute_result",
          "data": {
            "text/html": [
              "<div>\n",
              "<style scoped>\n",
              "    .dataframe tbody tr th:only-of-type {\n",
              "        vertical-align: middle;\n",
              "    }\n",
              "\n",
              "    .dataframe tbody tr th {\n",
              "        vertical-align: top;\n",
              "    }\n",
              "\n",
              "    .dataframe thead th {\n",
              "        text-align: right;\n",
              "    }\n",
              "</style>\n",
              "<table border=\"1\" class=\"dataframe\">\n",
              "  <thead>\n",
              "    <tr style=\"text-align: right;\">\n",
              "      <th></th>\n",
              "      <th>COMMENT_ID</th>\n",
              "      <th>AUTHOR</th>\n",
              "      <th>DATE</th>\n",
              "      <th>CONTENT</th>\n",
              "      <th>CLASS</th>\n",
              "    </tr>\n",
              "  </thead>\n",
              "  <tbody>\n",
              "    <tr>\n",
              "      <th>345</th>\n",
              "      <td>z12sjp3zgtqnvlysj23zuxxaolrvd1oj504</td>\n",
              "      <td>Kacy Cluley</td>\n",
              "      <td>2015-06-05T18:59:52</td>\n",
              "      <td>This song means so much to me thank you  soooo...</td>\n",
              "      <td>0</td>\n",
              "    </tr>\n",
              "    <tr>\n",
              "      <th>346</th>\n",
              "      <td>z132enrpoy35yxpoe04cjr4zur3jvbyq3xo0k</td>\n",
              "      <td>Kasia Fabisiewicz</td>\n",
              "      <td>2015-06-05T19:02:05</td>\n",
              "      <td>&amp;lt;3﻿</td>\n",
              "      <td>0</td>\n",
              "    </tr>\n",
              "    <tr>\n",
              "      <th>347</th>\n",
              "      <td>z132jbmxfqm4fjysg23nwjfb2mv2vxnua</td>\n",
              "      <td>Decio Alves Martins</td>\n",
              "      <td>2015-06-05T19:29:20</td>\n",
              "      <td>KATY PERRY, I AM THE \"DÉCIO CABELO\", \"DECIO HA...</td>\n",
              "      <td>1</td>\n",
              "    </tr>\n",
              "    <tr>\n",
              "      <th>348</th>\n",
              "      <td>z12cdlswetvnejcri04cex0jfwy2u3tzj54</td>\n",
              "      <td>Rafi Hossain</td>\n",
              "      <td>2015-06-05T19:55:08</td>\n",
              "      <td>Honestly speaking except taylor swift and adel...</td>\n",
              "      <td>0</td>\n",
              "    </tr>\n",
              "    <tr>\n",
              "      <th>349</th>\n",
              "      <td>z120e5uautvcuper304ccf4bjrjugdpbwrc0k</td>\n",
              "      <td>moaz adnan</td>\n",
              "      <td>2015-06-05T20:01:23</td>\n",
              "      <td>who is going to reach the billion first : katy...</td>\n",
              "      <td>0</td>\n",
              "    </tr>\n",
              "  </tbody>\n",
              "</table>\n",
              "</div>"
            ],
            "text/plain": [
              "                                COMMENT_ID  ... CLASS\n",
              "345    z12sjp3zgtqnvlysj23zuxxaolrvd1oj504  ...     0\n",
              "346  z132enrpoy35yxpoe04cjr4zur3jvbyq3xo0k  ...     0\n",
              "347      z132jbmxfqm4fjysg23nwjfb2mv2vxnua  ...     1\n",
              "348    z12cdlswetvnejcri04cex0jfwy2u3tzj54  ...     0\n",
              "349  z120e5uautvcuper304ccf4bjrjugdpbwrc0k  ...     0\n",
              "\n",
              "[5 rows x 5 columns]"
            ]
          },
          "metadata": {
            "tags": []
          },
          "execution_count": 5
        }
      ]
    },
    {
      "cell_type": "code",
      "metadata": {
        "colab": {
          "base_uri": "https://localhost:8080/"
        },
        "id": "-ZwlBnt8zVjB",
        "outputId": "7109840a-7148-483b-baa7-c4fa53b60cc6"
      },
      "source": [
        "#Checking for null values\n",
        "data.isnull().sum() "
      ],
      "execution_count": 6,
      "outputs": [
        {
          "output_type": "execute_result",
          "data": {
            "text/plain": [
              "COMMENT_ID    0\n",
              "AUTHOR        0\n",
              "DATE          0\n",
              "CONTENT       0\n",
              "CLASS         0\n",
              "dtype: int64"
            ]
          },
          "metadata": {
            "tags": []
          },
          "execution_count": 6
        }
      ]
    },
    {
      "cell_type": "code",
      "metadata": {
        "id": "D6uSjEZiil8o",
        "colab": {
          "base_uri": "https://localhost:8080/"
        },
        "outputId": "15e25c8a-ff1a-465f-f8a3-d3e735ef53c2"
      },
      "source": [
        "data.info()"
      ],
      "execution_count": 7,
      "outputs": [
        {
          "output_type": "stream",
          "text": [
            "<class 'pandas.core.frame.DataFrame'>\n",
            "RangeIndex: 350 entries, 0 to 349\n",
            "Data columns (total 5 columns):\n",
            " #   Column      Non-Null Count  Dtype \n",
            "---  ------      --------------  ----- \n",
            " 0   COMMENT_ID  350 non-null    object\n",
            " 1   AUTHOR      350 non-null    object\n",
            " 2   DATE        350 non-null    object\n",
            " 3   CONTENT     350 non-null    object\n",
            " 4   CLASS       350 non-null    int64 \n",
            "dtypes: int64(1), object(4)\n",
            "memory usage: 13.8+ KB\n"
          ],
          "name": "stdout"
        }
      ]
    },
    {
      "cell_type": "code",
      "metadata": {
        "id": "r2l0iitHrq1X"
      },
      "source": [
        "#we are using CONTENT as a independent feature\n",
        "#the CLASS as dependent label\n",
        "X = data['CONTENT']\n",
        "y = data['CLASS']"
      ],
      "execution_count": 8,
      "outputs": []
    },
    {
      "cell_type": "code",
      "metadata": {
        "colab": {
          "base_uri": "https://localhost:8080/"
        },
        "id": "D7rQm3zKtsfa",
        "outputId": "12746984-d152-463c-cbcc-e4636a7b6bcb"
      },
      "source": [
        "#Displaying first five records of the feature \"CONTENT\"\n",
        "X.head()"
      ],
      "execution_count": 9,
      "outputs": [
        {
          "output_type": "execute_result",
          "data": {
            "text/plain": [
              "0    i love this so much. AND also I Generate Free ...\n",
              "1    http://www.billboard.com/articles/columns/pop-...\n",
              "2    Hey guys! Please join me in my fight to help a...\n",
              "3    http://psnboss.com/?ref=2tGgp3pV6L this is the...\n",
              "4    Hey everyone. Watch this trailer!!!!!!!!  http...\n",
              "Name: CONTENT, dtype: object"
            ]
          },
          "metadata": {
            "tags": []
          },
          "execution_count": 9
        }
      ]
    },
    {
      "cell_type": "code",
      "metadata": {
        "colab": {
          "base_uri": "https://localhost:8080/"
        },
        "id": "it6YYNvktsYP",
        "outputId": "90b5c61c-7a79-4e82-cfd3-fbc5c29bbb1a"
      },
      "source": [
        "#Displaying first five records of the label \"CLASS\"\n",
        "y.head()"
      ],
      "execution_count": 10,
      "outputs": [
        {
          "output_type": "execute_result",
          "data": {
            "text/plain": [
              "0    1\n",
              "1    1\n",
              "2    1\n",
              "3    1\n",
              "4    1\n",
              "Name: CLASS, dtype: int64"
            ]
          },
          "metadata": {
            "tags": []
          },
          "execution_count": 10
        }
      ]
    },
    {
      "cell_type": "markdown",
      "metadata": {
        "id": "PUlw93LN0lsC"
      },
      "source": [
        "**Splitting our dataset into train and test dataset**"
      ]
    },
    {
      "cell_type": "code",
      "metadata": {
        "colab": {
          "base_uri": "https://localhost:8080/"
        },
        "id": "wceWm2AErqq1",
        "outputId": "59a62d0c-759e-42e8-f490-c46d0077ad3d"
      },
      "source": [
        "#split our dataset into train and test and setting the random state at \"123\"\n",
        "#Random state ensures that the splits that you generate are reproducible. Scikit-learn uses random permutations to generate the splits.\n",
        "from sklearn.model_selection import train_test_split\n",
        "X_train, X_test, y_train, y_test = train_test_split(X, y, test_size=0.2, random_state = 123)\n",
        "print(X_train.shape)\n",
        "print(X_test.shape)\n",
        "print(y_train.shape)\n",
        "print(y_test.shape)"
      ],
      "execution_count": 11,
      "outputs": [
        {
          "output_type": "stream",
          "text": [
            "(280,)\n",
            "(70,)\n",
            "(280,)\n",
            "(70,)\n"
          ],
          "name": "stdout"
        }
      ]
    },
    {
      "cell_type": "markdown",
      "metadata": {
        "id": "UL3iQ3u60wKz"
      },
      "source": [
        "**Vectorizing the dataset**\n",
        "\n",
        "We use CountVectorizer to convert each content into a matrix of token counts. Moreover, stopwords are removed."
      ]
    },
    {
      "cell_type": "code",
      "metadata": {
        "id": "A0iVwMQvO-7c"
      },
      "source": [
        "from sklearn.feature_extraction.text import CountVectorizer\n",
        "vect = CountVectorizer(binary = True, stop_words='english')"
      ],
      "execution_count": 12,
      "outputs": []
    },
    {
      "cell_type": "code",
      "metadata": {
        "colab": {
          "base_uri": "https://localhost:8080/"
        },
        "id": "PGzGEp_9PBu0",
        "outputId": "1c64ee22-ddbb-494a-d40e-415d5293ba3c"
      },
      "source": [
        "## Fitting the CountVectorizer using the training data\n",
        "vect.fit(X_train)"
      ],
      "execution_count": 13,
      "outputs": [
        {
          "output_type": "execute_result",
          "data": {
            "text/plain": [
              "CountVectorizer(analyzer='word', binary=True, decode_error='strict',\n",
              "                dtype=<class 'numpy.int64'>, encoding='utf-8', input='content',\n",
              "                lowercase=True, max_df=1.0, max_features=None, min_df=1,\n",
              "                ngram_range=(1, 1), preprocessor=None, stop_words='english',\n",
              "                strip_accents=None, token_pattern='(?u)\\\\b\\\\w\\\\w+\\\\b',\n",
              "                tokenizer=None, vocabulary=None)"
            ]
          },
          "metadata": {
            "tags": []
          },
          "execution_count": 13
        }
      ]
    },
    {
      "cell_type": "code",
      "metadata": {
        "id": "Ev0z0WkI3-BF",
        "colab": {
          "base_uri": "https://localhost:8080/"
        },
        "outputId": "22427210-3754-4ca8-a9de-34b46ba341ed"
      },
      "source": [
        "# Transforming the data frames\n",
        "X_test_dtm = vect.transform(X_test)\n",
        "X_train_dtm = vect.fit_transform(X_train)\n",
        "print(type(X_train_dtm))\n",
        "print(type(X_test_dtm))"
      ],
      "execution_count": 14,
      "outputs": [
        {
          "output_type": "stream",
          "text": [
            "<class 'scipy.sparse.csr.csr_matrix'>\n",
            "<class 'scipy.sparse.csr.csr_matrix'>\n"
          ],
          "name": "stdout"
        }
      ]
    },
    {
      "cell_type": "code",
      "metadata": {
        "colab": {
          "base_uri": "https://localhost:8080/"
        },
        "id": "D6js13t_1lJK",
        "outputId": "b9e2649f-8397-46a7-dc8f-c6186b23d778"
      },
      "source": [
        "print(\"Test vector shape : \", X_test_dtm.shape)\n",
        "print(\"Train vector shape : \", X_train_dtm.shape)"
      ],
      "execution_count": 15,
      "outputs": [
        {
          "output_type": "stream",
          "text": [
            "Test vector shape :  (70, 1278)\n",
            "Train vector shape :  (280, 1278)\n"
          ],
          "name": "stdout"
        }
      ]
    },
    {
      "cell_type": "markdown",
      "metadata": {
        "id": "91vxy-U50ep0"
      },
      "source": [
        "**Logistic Regression Classification model for the Kattyperry data set**"
      ]
    },
    {
      "cell_type": "code",
      "metadata": {
        "colab": {
          "base_uri": "https://localhost:8080/"
        },
        "id": "wJr1pOy0LWCI",
        "outputId": "12e3fe18-49a8-426b-bc73-34aefefa0a78"
      },
      "source": [
        "#Importing Logistic regression from Sklearn\n",
        "from sklearn.linear_model import LogisticRegression\n",
        "model = LogisticRegression(random_state = 123)\n",
        "#Fitting the model\n",
        "model.fit(X_train_dtm,y_train)"
      ],
      "execution_count": 16,
      "outputs": [
        {
          "output_type": "execute_result",
          "data": {
            "text/plain": [
              "LogisticRegression(C=1.0, class_weight=None, dual=False, fit_intercept=True,\n",
              "                   intercept_scaling=1, l1_ratio=None, max_iter=100,\n",
              "                   multi_class='auto', n_jobs=None, penalty='l2',\n",
              "                   random_state=123, solver='lbfgs', tol=0.0001, verbose=0,\n",
              "                   warm_start=False)"
            ]
          },
          "metadata": {
            "tags": []
          },
          "execution_count": 16
        }
      ]
    },
    {
      "cell_type": "markdown",
      "metadata": {
        "id": "seNz06hg2Y1Z"
      },
      "source": [
        "**PREDICTION**"
      ]
    },
    {
      "cell_type": "code",
      "metadata": {
        "colab": {
          "base_uri": "https://localhost:8080/"
        },
        "id": "aUgKn4zR4Yul",
        "outputId": "c5a7cba1-481c-4b50-bff6-fa0c1ee93f0a"
      },
      "source": [
        "#predicting Label for test data\n",
        "pred = model.predict(X_test_dtm)\n",
        "#Checking F1 Score\n",
        "sklearn.metrics.f1_score(y_test, pred, average='binary')"
      ],
      "execution_count": 17,
      "outputs": [
        {
          "output_type": "execute_result",
          "data": {
            "text/plain": [
              "0.9180327868852458"
            ]
          },
          "metadata": {
            "tags": []
          },
          "execution_count": 17
        }
      ]
    },
    {
      "cell_type": "code",
      "metadata": {
        "id": "RmX9gLwPElJG"
      },
      "source": [
        "# Importing necessary packages for metric from Sklearn\n",
        "from sklearn.metrics import accuracy_score,confusion_matrix,classification_report"
      ],
      "execution_count": 18,
      "outputs": []
    },
    {
      "cell_type": "code",
      "metadata": {
        "id": "Le7AkxvQEo8v",
        "colab": {
          "base_uri": "https://localhost:8080/"
        },
        "outputId": "af56ca13-8d29-4356-e404-8374dca9a607"
      },
      "source": [
        "Logistic_Accuracy = accuracy_score(y_test,pred)\n",
        "print('Logistic Regression Accuracy Score: ', Logistic_Accuracy) "
      ],
      "execution_count": 19,
      "outputs": [
        {
          "output_type": "stream",
          "text": [
            "Logistic Regression Accuracy Score:  0.9285714285714286\n"
          ],
          "name": "stdout"
        }
      ]
    },
    {
      "cell_type": "code",
      "metadata": {
        "colab": {
          "base_uri": "https://localhost:8080/"
        },
        "id": "4gmvtUr0Eyad",
        "outputId": "7afba124-2218-40b5-9c98-8788461ea8ef"
      },
      "source": [
        "print('Classification report:\\n ' ,classification_report(y_test,pred))"
      ],
      "execution_count": 20,
      "outputs": [
        {
          "output_type": "stream",
          "text": [
            "Classification report:\n",
            "                precision    recall  f1-score   support\n",
            "\n",
            "           0       0.88      1.00      0.94        37\n",
            "           1       1.00      0.85      0.92        33\n",
            "\n",
            "    accuracy                           0.93        70\n",
            "   macro avg       0.94      0.92      0.93        70\n",
            "weighted avg       0.94      0.93      0.93        70\n",
            "\n"
          ],
          "name": "stdout"
        }
      ]
    },
    {
      "cell_type": "markdown",
      "metadata": {
        "id": "zDIgpKhAuxXQ"
      },
      "source": [
        "**Support Vector Machine(SVM) Classification model (SVC) for the Kattyperry data set**"
      ]
    },
    {
      "cell_type": "code",
      "metadata": {
        "colab": {
          "base_uri": "https://localhost:8080/"
        },
        "id": "JWE7eaQtuw4z",
        "outputId": "5fac2a21-49e8-42ce-b7d5-b9cc619d0b56"
      },
      "source": [
        "from sklearn import svm\n",
        "model_s = svm.SVC(random_state = 123)\n",
        "model_s.fit(X_train_dtm,y_train)"
      ],
      "execution_count": 21,
      "outputs": [
        {
          "output_type": "execute_result",
          "data": {
            "text/plain": [
              "SVC(C=1.0, break_ties=False, cache_size=200, class_weight=None, coef0=0.0,\n",
              "    decision_function_shape='ovr', degree=3, gamma='scale', kernel='rbf',\n",
              "    max_iter=-1, probability=False, random_state=123, shrinking=True, tol=0.001,\n",
              "    verbose=False)"
            ]
          },
          "metadata": {
            "tags": []
          },
          "execution_count": 21
        }
      ]
    },
    {
      "cell_type": "code",
      "metadata": {
        "colab": {
          "base_uri": "https://localhost:8080/"
        },
        "id": "SLlwJTa2uwnG",
        "outputId": "63855d36-716b-4531-b916-915daf383867"
      },
      "source": [
        "pred_s = model_s.predict(X_test_dtm)\n",
        "print(pred_s)"
      ],
      "execution_count": 22,
      "outputs": [
        {
          "output_type": "stream",
          "text": [
            "[1 0 0 1 0 0 0 1 1 0 0 0 0 1 1 1 1 0 0 1 0 1 0 0 0 0 1 0 0 1 0 0 0 0 0 1 0\n",
            " 1 0 0 1 1 1 0 1 1 1 1 0 1 0 1 0 0 1 0 0 0 0 1 0 0 1 1 0 1 0 0 1 0]\n"
          ],
          "name": "stdout"
        }
      ]
    },
    {
      "cell_type": "code",
      "metadata": {
        "colab": {
          "base_uri": "https://localhost:8080/"
        },
        "id": "WdOvtbKOvQiZ",
        "outputId": "a7c0e891-d572-47ae-d3b4-cf2402b8c98b"
      },
      "source": [
        "SVM_accuracy = accuracy_score(y_test,pred_s)\n",
        "print('SVM Accuracy Score:', SVM_accuracy)"
      ],
      "execution_count": 23,
      "outputs": [
        {
          "output_type": "stream",
          "text": [
            "SVM Accuracy Score: 0.9428571428571428\n"
          ],
          "name": "stdout"
        }
      ]
    },
    {
      "cell_type": "code",
      "metadata": {
        "colab": {
          "base_uri": "https://localhost:8080/"
        },
        "id": "2Eri85YEvQIl",
        "outputId": "26db414f-e85c-4242-9847-a4968daf7789"
      },
      "source": [
        "print(confusion_matrix(y_test, pred_s))\n",
        "print(classification_report(y_test, pred_s))"
      ],
      "execution_count": 24,
      "outputs": [
        {
          "output_type": "stream",
          "text": [
            "[[37  0]\n",
            " [ 4 29]]\n",
            "              precision    recall  f1-score   support\n",
            "\n",
            "           0       0.90      1.00      0.95        37\n",
            "           1       1.00      0.88      0.94        33\n",
            "\n",
            "    accuracy                           0.94        70\n",
            "   macro avg       0.95      0.94      0.94        70\n",
            "weighted avg       0.95      0.94      0.94        70\n",
            "\n"
          ],
          "name": "stdout"
        }
      ]
    },
    {
      "cell_type": "markdown",
      "metadata": {
        "id": "s0ccUgG31bIt"
      },
      "source": [
        "**Random Forest Classification model for the Katty Perry dataset**"
      ]
    },
    {
      "cell_type": "code",
      "metadata": {
        "colab": {
          "base_uri": "https://localhost:8080/"
        },
        "id": "n7__bV1D1Z-D",
        "outputId": "d5ae0a92-2330-4110-89fb-4c3d65d3059c"
      },
      "source": [
        "#Assigning rf as random forest classifier\n",
        "rf = sklearn.ensemble.RandomForestClassifier(n_estimators=500, random_state = 125)\n",
        "#Fiiting the model\n",
        "rf.fit(X_train_dtm, y_train)"
      ],
      "execution_count": 25,
      "outputs": [
        {
          "output_type": "execute_result",
          "data": {
            "text/plain": [
              "RandomForestClassifier(bootstrap=True, ccp_alpha=0.0, class_weight=None,\n",
              "                       criterion='gini', max_depth=None, max_features='auto',\n",
              "                       max_leaf_nodes=None, max_samples=None,\n",
              "                       min_impurity_decrease=0.0, min_impurity_split=None,\n",
              "                       min_samples_leaf=1, min_samples_split=2,\n",
              "                       min_weight_fraction_leaf=0.0, n_estimators=500,\n",
              "                       n_jobs=None, oob_score=False, random_state=125,\n",
              "                       verbose=0, warm_start=False)"
            ]
          },
          "metadata": {
            "tags": []
          },
          "execution_count": 25
        }
      ]
    },
    {
      "cell_type": "code",
      "metadata": {
        "id": "WvlTeUvO1Z07"
      },
      "source": [
        "pred_r=rf.predict(X_test_dtm)"
      ],
      "execution_count": 26,
      "outputs": []
    },
    {
      "cell_type": "code",
      "metadata": {
        "colab": {
          "base_uri": "https://localhost:8080/"
        },
        "id": "iUg58vuG3Ljh",
        "outputId": "fbec05ee-fae2-49f9-fd43-ea992843fcad"
      },
      "source": [
        "RFA = accuracy_score(y_test,pred_r)\n",
        "print('Random Forest Accuracy Score:', RFA)"
      ],
      "execution_count": 27,
      "outputs": [
        {
          "output_type": "stream",
          "text": [
            "Random Forest Accuracy Score: 0.9142857142857143\n"
          ],
          "name": "stdout"
        }
      ]
    },
    {
      "cell_type": "code",
      "metadata": {
        "colab": {
          "base_uri": "https://localhost:8080/"
        },
        "id": "HftzLnWQ5FF_",
        "outputId": "fdd0419e-145c-406b-873b-0f106302619e"
      },
      "source": [
        "sklearn.metrics.f1_score(y_test, pred_r, average='binary')"
      ],
      "execution_count": 28,
      "outputs": [
        {
          "output_type": "execute_result",
          "data": {
            "text/plain": [
              "0.9"
            ]
          },
          "metadata": {
            "tags": []
          },
          "execution_count": 28
        }
      ]
    },
    {
      "cell_type": "code",
      "metadata": {
        "colab": {
          "base_uri": "https://localhost:8080/"
        },
        "id": "XtbXRpnb2ZZj",
        "outputId": "e7757dc2-2234-4304-9063-f84a26528758"
      },
      "source": [
        "print(confusion_matrix(y_test,pred_r))\n",
        "print(classification_report(y_test,pred_r))"
      ],
      "execution_count": 29,
      "outputs": [
        {
          "output_type": "stream",
          "text": [
            "[[37  0]\n",
            " [ 6 27]]\n",
            "              precision    recall  f1-score   support\n",
            "\n",
            "           0       0.86      1.00      0.92        37\n",
            "           1       1.00      0.82      0.90        33\n",
            "\n",
            "    accuracy                           0.91        70\n",
            "   macro avg       0.93      0.91      0.91        70\n",
            "weighted avg       0.93      0.91      0.91        70\n",
            "\n"
          ],
          "name": "stdout"
        }
      ]
    },
    {
      "cell_type": "markdown",
      "metadata": {
        "id": "GaNi0kcG4UhI"
      },
      "source": [
        "**Naive Bayes Classification model for the Katty Perry data set**"
      ]
    },
    {
      "cell_type": "code",
      "metadata": {
        "id": "E2m5_nHw3yt_",
        "colab": {
          "base_uri": "https://localhost:8080/"
        },
        "outputId": "c4124713-b656-494e-c05a-aa66cbaff2a7"
      },
      "source": [
        "from sklearn.naive_bayes import MultinomialNB\n",
        "nb = MultinomialNB()\n",
        "\n",
        "nb.fit(X_train_dtm, y_train) #fit training data"
      ],
      "execution_count": 30,
      "outputs": [
        {
          "output_type": "execute_result",
          "data": {
            "text/plain": [
              "MultinomialNB(alpha=1.0, class_prior=None, fit_prior=True)"
            ]
          },
          "metadata": {
            "tags": []
          },
          "execution_count": 30
        }
      ]
    },
    {
      "cell_type": "code",
      "metadata": {
        "id": "OHyxgAzR40p6"
      },
      "source": [
        "y_pred_nb = nb.predict(X_test_dtm) #Run the Prediction"
      ],
      "execution_count": 31,
      "outputs": []
    },
    {
      "cell_type": "markdown",
      "metadata": {
        "id": "4xiILFdXIsU4"
      },
      "source": [
        "Score the prediction"
      ]
    },
    {
      "cell_type": "code",
      "metadata": {
        "colab": {
          "base_uri": "https://localhost:8080/"
        },
        "id": "05etVQDQImsr",
        "outputId": "af686be9-8802-47ca-9fb8-bc06ae2263bf"
      },
      "source": [
        "from sklearn.metrics import accuracy_score, confusion_matrix, roc_auc_score\n",
        "NBA = accuracy_score(y_test, y_pred_nb)\n",
        "print('Naive Bayes Accuracy Score:', NBA)"
      ],
      "execution_count": 32,
      "outputs": [
        {
          "output_type": "stream",
          "text": [
            "Naive Bayes Accuracy Score: 0.8857142857142857\n"
          ],
          "name": "stdout"
        }
      ]
    },
    {
      "cell_type": "code",
      "metadata": {
        "colab": {
          "base_uri": "https://localhost:8080/"
        },
        "id": "oFfvDgm1Iyfi",
        "outputId": "f0d77ee6-0491-48bf-d59a-6f5048be60c2"
      },
      "source": [
        "confusion_matrix(y_test, y_pred_nb)"
      ],
      "execution_count": 33,
      "outputs": [
        {
          "output_type": "execute_result",
          "data": {
            "text/plain": [
              "array([[32,  5],\n",
              "       [ 3, 30]])"
            ]
          },
          "metadata": {
            "tags": []
          },
          "execution_count": 33
        }
      ]
    },
    {
      "cell_type": "code",
      "metadata": {
        "colab": {
          "base_uri": "https://localhost:8080/"
        },
        "id": "-eMrvw_FI6dL",
        "outputId": "266309fa-1fdd-4fba-883a-d2fb71124b52"
      },
      "source": [
        "X_test[y_pred_nb > y_test] # False positive comment (That is, not_spam marked as spam)"
      ],
      "execution_count": 34,
      "outputs": [
        {
          "output_type": "execute_result",
          "data": {
            "text/plain": [
              "75                   ROAAAAARRRRRR 🐯🐯🐯﻿\n",
              "235                                ;-)﻿\n",
              "167    most popular video on youtube  ﻿\n",
              "171                       Fantastic!!!﻿\n",
              "263     She kinda let herself go, huh?﻿\n",
              "Name: CONTENT, dtype: object"
            ]
          },
          "metadata": {
            "tags": []
          },
          "execution_count": 34
        }
      ]
    },
    {
      "cell_type": "code",
      "metadata": {
        "colab": {
          "base_uri": "https://localhost:8080/"
        },
        "id": "lEZnxNKDI-sC",
        "outputId": "17df371b-ab71-4bc6-8d19-ce8c6279f6bf"
      },
      "source": [
        "X_test[y_pred_nb < y_test] # False negative comment (Spam comment not detected)"
      ],
      "execution_count": 35,
      "outputs": [
        {
          "output_type": "execute_result",
          "data": {
            "text/plain": [
              "247    :: ATTENTION : WE NEED 10 Million Views More f...\n",
              "54     YAY IM THE 11TH COMMENTER!!!!!                ...\n",
              "347    KATY PERRY, I AM THE \"DÉCIO CABELO\", \"DECIO HA...\n",
              "Name: CONTENT, dtype: object"
            ]
          },
          "metadata": {
            "tags": []
          },
          "execution_count": 35
        }
      ]
    },
    {
      "cell_type": "code",
      "metadata": {
        "colab": {
          "base_uri": "https://localhost:8080/"
        },
        "id": "_ZUXPSz5JDJt",
        "outputId": "4be1979e-a5a2-4869-ad0c-fb7c7804ae08"
      },
      "source": [
        "roc_auc_score(y_test, nb.predict_proba(X_test_dtm)[:, 1])"
      ],
      "execution_count": 36,
      "outputs": [
        {
          "output_type": "execute_result",
          "data": {
            "text/plain": [
              "0.9696969696969697"
            ]
          },
          "metadata": {
            "tags": []
          },
          "execution_count": 36
        }
      ]
    },
    {
      "cell_type": "markdown",
      "metadata": {
        "id": "RjBIQ_V3H8rM"
      },
      "source": [
        "**Analysis**"
      ]
    },
    {
      "cell_type": "code",
      "metadata": {
        "id": "oLubPsab62OU"
      },
      "source": [
        "X_train_tokens = vect.get_feature_names()"
      ],
      "execution_count": 37,
      "outputs": []
    },
    {
      "cell_type": "code",
      "metadata": {
        "id": "wfdy5e6L6-tQ",
        "colab": {
          "base_uri": "https://localhost:8080/"
        },
        "outputId": "ed8c5283-7d1c-4218-8765-b20527d4b4d3"
      },
      "source": [
        "nb.feature_count_ # First line represent not_spam, second line represent span"
      ],
      "execution_count": 38,
      "outputs": [
        {
          "output_type": "execute_result",
          "data": {
            "text/plain": [
              "array([[1., 1., 1., ..., 0., 0., 0.],\n",
              "       [0., 1., 0., ..., 2., 1., 1.]])"
            ]
          },
          "metadata": {
            "tags": []
          },
          "execution_count": 38
        }
      ]
    },
    {
      "cell_type": "code",
      "metadata": {
        "id": "enuAxO6B7WVD",
        "colab": {
          "base_uri": "https://localhost:8080/"
        },
        "outputId": "5945e587-6d90-482d-cc6a-f2f10e751aaa"
      },
      "source": [
        "not_spam_token_count = nb.feature_count_[0, :]\n",
        "not_spam_token_count"
      ],
      "execution_count": 39,
      "outputs": [
        {
          "output_type": "execute_result",
          "data": {
            "text/plain": [
              "array([1., 1., 1., ..., 0., 0., 0.])"
            ]
          },
          "metadata": {
            "tags": []
          },
          "execution_count": 39
        }
      ]
    },
    {
      "cell_type": "code",
      "metadata": {
        "id": "Uo8d4sEz70r0",
        "colab": {
          "base_uri": "https://localhost:8080/"
        },
        "outputId": "38134b13-aa4c-469c-c8e2-22f518b4a2c8"
      },
      "source": [
        "spam_token_count = nb.feature_count_[1, :]\n",
        "spam_token_count"
      ],
      "execution_count": 40,
      "outputs": [
        {
          "output_type": "execute_result",
          "data": {
            "text/plain": [
              "array([0., 1., 0., ..., 2., 1., 1.])"
            ]
          },
          "metadata": {
            "tags": []
          },
          "execution_count": 40
        }
      ]
    },
    {
      "cell_type": "code",
      "metadata": {
        "id": "QbqmmtpY78OI",
        "colab": {
          "base_uri": "https://localhost:8080/",
          "height": 373
        },
        "outputId": "ff0fe9ea-7d09-4d12-9847-52d34d791627"
      },
      "source": [
        "tokens = pd.DataFrame({'token': X_train_tokens, 'not_spam': not_spam_token_count, 'spam': \n",
        "    spam_token_count}).set_index('token')\n",
        "\n",
        "# Here are 10 random values drawn from the data frame\n",
        "# Note that these are absolute occurrences\n",
        "tokens.sample(10, random_state=50)"
      ],
      "execution_count": 41,
      "outputs": [
        {
          "output_type": "execute_result",
          "data": {
            "text/html": [
              "<div>\n",
              "<style scoped>\n",
              "    .dataframe tbody tr th:only-of-type {\n",
              "        vertical-align: middle;\n",
              "    }\n",
              "\n",
              "    .dataframe tbody tr th {\n",
              "        vertical-align: top;\n",
              "    }\n",
              "\n",
              "    .dataframe thead th {\n",
              "        text-align: right;\n",
              "    }\n",
              "</style>\n",
              "<table border=\"1\" class=\"dataframe\">\n",
              "  <thead>\n",
              "    <tr style=\"text-align: right;\">\n",
              "      <th></th>\n",
              "      <th>not_spam</th>\n",
              "      <th>spam</th>\n",
              "    </tr>\n",
              "    <tr>\n",
              "      <th>token</th>\n",
              "      <th></th>\n",
              "      <th></th>\n",
              "    </tr>\n",
              "  </thead>\n",
              "  <tbody>\n",
              "    <tr>\n",
              "      <th>coming</th>\n",
              "      <td>0.0</td>\n",
              "      <td>1.0</td>\n",
              "    </tr>\n",
              "    <tr>\n",
              "      <th>dede</th>\n",
              "      <td>1.0</td>\n",
              "      <td>0.0</td>\n",
              "    </tr>\n",
              "    <tr>\n",
              "      <th>bgq</th>\n",
              "      <td>0.0</td>\n",
              "      <td>1.0</td>\n",
              "    </tr>\n",
              "    <tr>\n",
              "      <th>younique</th>\n",
              "      <td>0.0</td>\n",
              "      <td>1.0</td>\n",
              "    </tr>\n",
              "    <tr>\n",
              "      <th>opinion</th>\n",
              "      <td>2.0</td>\n",
              "      <td>0.0</td>\n",
              "    </tr>\n",
              "    <tr>\n",
              "      <th>link</th>\n",
              "      <td>0.0</td>\n",
              "      <td>3.0</td>\n",
              "    </tr>\n",
              "    <tr>\n",
              "      <th>15</th>\n",
              "      <td>1.0</td>\n",
              "      <td>0.0</td>\n",
              "    </tr>\n",
              "    <tr>\n",
              "      <th>firework</th>\n",
              "      <td>1.0</td>\n",
              "      <td>0.0</td>\n",
              "    </tr>\n",
              "    <tr>\n",
              "      <th>store</th>\n",
              "      <td>0.0</td>\n",
              "      <td>4.0</td>\n",
              "    </tr>\n",
              "    <tr>\n",
              "      <th>everyday</th>\n",
              "      <td>0.0</td>\n",
              "      <td>1.0</td>\n",
              "    </tr>\n",
              "  </tbody>\n",
              "</table>\n",
              "</div>"
            ],
            "text/plain": [
              "          not_spam  spam\n",
              "token                   \n",
              "coming         0.0   1.0\n",
              "dede           1.0   0.0\n",
              "bgq            0.0   1.0\n",
              "younique       0.0   1.0\n",
              "opinion        2.0   0.0\n",
              "link           0.0   3.0\n",
              "15             1.0   0.0\n",
              "firework       1.0   0.0\n",
              "store          0.0   4.0\n",
              "everyday       0.0   1.0"
            ]
          },
          "metadata": {
            "tags": []
          },
          "execution_count": 41
        }
      ]
    },
    {
      "cell_type": "code",
      "metadata": {
        "id": "84oCH89N8QYe",
        "colab": {
          "base_uri": "https://localhost:8080/"
        },
        "outputId": "b4061a53-7eab-4334-b3b2-9d117323f3cc"
      },
      "source": [
        "class_count = nb.class_count_\n",
        "\n",
        "class_count"
      ],
      "execution_count": 42,
      "outputs": [
        {
          "output_type": "execute_result",
          "data": {
            "text/plain": [
              "array([138., 142.])"
            ]
          },
          "metadata": {
            "tags": []
          },
          "execution_count": 42
        }
      ]
    },
    {
      "cell_type": "code",
      "metadata": {
        "id": "meiw3Ot48gMj",
        "colab": {
          "base_uri": "https://localhost:8080/",
          "height": 373
        },
        "outputId": "5e06e8e7-9158-4cee-c32e-ba1868eb023a"
      },
      "source": [
        "tokens.not_spam /= class_count[0]\n",
        "tokens.spam /= class_count[1]\n",
        "\n",
        "tokens.sample(10, random_state=50)"
      ],
      "execution_count": 43,
      "outputs": [
        {
          "output_type": "execute_result",
          "data": {
            "text/html": [
              "<div>\n",
              "<style scoped>\n",
              "    .dataframe tbody tr th:only-of-type {\n",
              "        vertical-align: middle;\n",
              "    }\n",
              "\n",
              "    .dataframe tbody tr th {\n",
              "        vertical-align: top;\n",
              "    }\n",
              "\n",
              "    .dataframe thead th {\n",
              "        text-align: right;\n",
              "    }\n",
              "</style>\n",
              "<table border=\"1\" class=\"dataframe\">\n",
              "  <thead>\n",
              "    <tr style=\"text-align: right;\">\n",
              "      <th></th>\n",
              "      <th>not_spam</th>\n",
              "      <th>spam</th>\n",
              "    </tr>\n",
              "    <tr>\n",
              "      <th>token</th>\n",
              "      <th></th>\n",
              "      <th></th>\n",
              "    </tr>\n",
              "  </thead>\n",
              "  <tbody>\n",
              "    <tr>\n",
              "      <th>coming</th>\n",
              "      <td>0.000000</td>\n",
              "      <td>0.007042</td>\n",
              "    </tr>\n",
              "    <tr>\n",
              "      <th>dede</th>\n",
              "      <td>0.007246</td>\n",
              "      <td>0.000000</td>\n",
              "    </tr>\n",
              "    <tr>\n",
              "      <th>bgq</th>\n",
              "      <td>0.000000</td>\n",
              "      <td>0.007042</td>\n",
              "    </tr>\n",
              "    <tr>\n",
              "      <th>younique</th>\n",
              "      <td>0.000000</td>\n",
              "      <td>0.007042</td>\n",
              "    </tr>\n",
              "    <tr>\n",
              "      <th>opinion</th>\n",
              "      <td>0.014493</td>\n",
              "      <td>0.000000</td>\n",
              "    </tr>\n",
              "    <tr>\n",
              "      <th>link</th>\n",
              "      <td>0.000000</td>\n",
              "      <td>0.021127</td>\n",
              "    </tr>\n",
              "    <tr>\n",
              "      <th>15</th>\n",
              "      <td>0.007246</td>\n",
              "      <td>0.000000</td>\n",
              "    </tr>\n",
              "    <tr>\n",
              "      <th>firework</th>\n",
              "      <td>0.007246</td>\n",
              "      <td>0.000000</td>\n",
              "    </tr>\n",
              "    <tr>\n",
              "      <th>store</th>\n",
              "      <td>0.000000</td>\n",
              "      <td>0.028169</td>\n",
              "    </tr>\n",
              "    <tr>\n",
              "      <th>everyday</th>\n",
              "      <td>0.000000</td>\n",
              "      <td>0.007042</td>\n",
              "    </tr>\n",
              "  </tbody>\n",
              "</table>\n",
              "</div>"
            ],
            "text/plain": [
              "          not_spam      spam\n",
              "token                       \n",
              "coming    0.000000  0.007042\n",
              "dede      0.007246  0.000000\n",
              "bgq       0.000000  0.007042\n",
              "younique  0.000000  0.007042\n",
              "opinion   0.014493  0.000000\n",
              "link      0.000000  0.021127\n",
              "15        0.007246  0.000000\n",
              "firework  0.007246  0.000000\n",
              "store     0.000000  0.028169\n",
              "everyday  0.000000  0.007042"
            ]
          },
          "metadata": {
            "tags": []
          },
          "execution_count": 43
        }
      ]
    },
    {
      "cell_type": "code",
      "metadata": {
        "id": "rUGFuQln8r-L"
      },
      "source": [
        "words_with_spam_score = ((tokens.spam + 1e-6)/(tokens.not_spam + 1e-6)).sort_values(ascending=False)"
      ],
      "execution_count": 44,
      "outputs": []
    },
    {
      "cell_type": "code",
      "metadata": {
        "id": "8rzytDWV821C",
        "colab": {
          "base_uri": "https://localhost:8080/"
        },
        "outputId": "897201fc-94cc-4c39-a3db-8bd2ce3a8649"
      },
      "source": [
        "# 50 spam words\n",
        "words_with_spam_score[:50].keys()"
      ],
      "execution_count": 45,
      "outputs": [
        {
          "output_type": "execute_result",
          "data": {
            "text/plain": [
              "Index(['com', 'www', 'https', 'facebook', 'amp', 'guys', 'help', 'new', 'ref',\n",
              "       'follow', 'vote', 'visit', 'id', 'cover', 'hi', '2014', 'php', 'click',\n",
              "       'pages', 'money', 'gofundme', 'shhort', 'hope', 'share', 'apps',\n",
              "       'thumbs', 'itunes', 'page', 'play', 'support', 'instagram', 'type',\n",
              "       'soundcloud', 'google', 'store', 'rapper', 'soon', 'single', 'live',\n",
              "       'link', 'trying', 'water', 'join', 'small', 'covers', 'sub', 'xoxo',\n",
              "       'getting', 'details', 'download'],\n",
              "      dtype='object', name='token')"
            ]
          },
          "metadata": {
            "tags": []
          },
          "execution_count": 45
        }
      ]
    },
    {
      "cell_type": "code",
      "metadata": {
        "id": "Fmp2tc1s9B5r",
        "colab": {
          "base_uri": "https://localhost:8080/"
        },
        "outputId": "3aba9736-8993-4878-ce73-996a6e61bfa4"
      },
      "source": [
        "# 50 words which are not spam\n",
        "words_with_spam_score[-50:].keys()"
      ],
      "execution_count": 46,
      "outputs": [
        {
          "output_type": "execute_result",
          "data": {
            "text/plain": [
              "Index(['clear', 'explicit', 'reply', 'extremely', 'rocks', 'cleanse',\n",
              "       'empowering', 'champion', 'clip', 'stop', 'millions', 'lets', 'woman',\n",
              "       'xd', 'soundsofsunday', 'lion', 'wouldn', 'makes', 'didn', 'kitty',\n",
              "       'seriously', 'fit', 'radio', 'fucking', 'tits', 'purry', 'garbage',\n",
              "       'favorite', 'acting', 'hating', 'honest', '600', 'doesn', 'illuminati',\n",
              "       'sexy', 'cute', 'sing', 'daughter', 'billion', 'omg', 'opinion',\n",
              "       'imagine', 'trash', 'thing', 'official', 'stupid', 'eyes', 'million',\n",
              "       'looks', 'jungle'],\n",
              "      dtype='object', name='token')"
            ]
          },
          "metadata": {
            "tags": []
          },
          "execution_count": 46
        }
      ]
    },
    {
      "cell_type": "code",
      "metadata": {
        "id": "yG8vjMQrugv5",
        "colab": {
          "base_uri": "https://localhost:8080/"
        },
        "outputId": "466723a8-6648-4ae4-8a4c-fd64b8a8b33e"
      },
      "source": [
        "print('Logistic Regression Accuracy Score: ', Logistic_Accuracy)\n",
        "print('SVM Accuracy Score:', SVM_accuracy)\n",
        "print('Random Forest Accuracy Score:', RFA)\n",
        "print('Naive Bayes Accuracy Score:', NBA)"
      ],
      "execution_count": 47,
      "outputs": [
        {
          "output_type": "stream",
          "text": [
            "Logistic Regression Accuracy Score:  0.9285714285714286\n",
            "SVM Accuracy Score: 0.9428571428571428\n",
            "Random Forest Accuracy Score: 0.9142857142857143\n",
            "Naive Bayes Accuracy Score: 0.8857142857142857\n"
          ],
          "name": "stdout"
        }
      ]
    },
    {
      "cell_type": "markdown",
      "metadata": {
        "id": "Ve4lEX5wN24H"
      },
      "source": [
        "**Summary**"
      ]
    },
    {
      "cell_type": "markdown",
      "metadata": {
        "id": "SrVSlXd2N8JG"
      },
      "source": [
        "In this notebook, we built a machine learning model based on comments for a YouTube video. The training data set had a total of 350 observations. We used a Logistic Regression, SVM, Random Forest and Naive Bayes Classifier in our algorithm, and trained it on 80% of the data set. The model resulted in an accuracy score of **88.57%** for Naive Bayes Classifier, **91.4%** for Random Forest,       **94.28%** for SVM and **92.85%** for Logistic Regression on the test data. We used the model to derive the top 50 most spam and least spam keywords."
      ]
    }
  ]
}